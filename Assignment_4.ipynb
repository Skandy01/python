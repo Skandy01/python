{
 "cells": [
  {
   "cell_type": "markdown",
   "id": "ecf4a726-68a1-426a-a5f2-fc73e3e21443",
   "metadata": {},
   "source": [
    "1. what is tuple"
   ]
  },
  {
   "cell_type": "markdown",
   "id": "41e85467-8489-4315-9535-28ee9d9c0d21",
   "metadata": {},
   "source": [
    "it is a simple data structure which stores data in it but the difference is that is is immutable trhat is after defining data in it it cannot be modified."
   ]
  },
  {
   "cell_type": "code",
   "execution_count": 1,
   "id": "347170b0-c95c-471b-8a96-a3d4b869e94e",
   "metadata": {},
   "outputs": [],
   "source": [
    "tup=()"
   ]
  },
  {
   "cell_type": "code",
   "execution_count": 2,
   "id": "77624227-15a7-4c82-bdf8-7e80020f4dcc",
   "metadata": {},
   "outputs": [
    {
     "data": {
      "text/plain": [
       "tuple"
      ]
     },
     "execution_count": 2,
     "metadata": {},
     "output_type": "execute_result"
    }
   ],
   "source": [
    "type(tup)"
   ]
  },
  {
   "cell_type": "code",
   "execution_count": 3,
   "id": "a8b34378-7d23-486e-85d9-c27701bdb8b7",
   "metadata": {},
   "outputs": [],
   "source": [
    "tup = (23,54,32,86,\"Assignmnent\",True)"
   ]
  },
  {
   "cell_type": "code",
   "execution_count": 4,
   "id": "6f4ce661-e001-4ddb-99d4-01a41eef8055",
   "metadata": {},
   "outputs": [
    {
     "data": {
      "text/plain": [
       "(23, 54, 32, 86, 'Assignmnent', True)"
      ]
     },
     "execution_count": 4,
     "metadata": {},
     "output_type": "execute_result"
    }
   ],
   "source": [
    "tup"
   ]
  },
  {
   "cell_type": "code",
   "execution_count": 5,
   "id": "d0c5f4a8-8237-4dd7-bd1d-de9858bb3f49",
   "metadata": {},
   "outputs": [],
   "source": [
    "tuple1 = ((5+4j),32,85.4,56,934,\"First\",False)"
   ]
  },
  {
   "cell_type": "code",
   "execution_count": 6,
   "id": "ab7007d9-f71b-4e6b-b1f1-602a712589fc",
   "metadata": {},
   "outputs": [
    {
     "data": {
      "text/plain": [
       "((5+4j), 32, 85.4, 56, 934, 'First', False)"
      ]
     },
     "execution_count": 6,
     "metadata": {},
     "output_type": "execute_result"
    }
   ],
   "source": [
    "tuple1"
   ]
  },
  {
   "cell_type": "code",
   "execution_count": 7,
   "id": "c539ad74-c5ca-443a-a529-86a577aa1fb8",
   "metadata": {},
   "outputs": [
    {
     "data": {
      "text/plain": [
       "tuple"
      ]
     },
     "execution_count": 7,
     "metadata": {},
     "output_type": "execute_result"
    }
   ],
   "source": [
    "type(tuple1)"
   ]
  },
  {
   "cell_type": "markdown",
   "id": "b0c1ceeb-9a25-4845-bb93-c7f24b07bffe",
   "metadata": {},
   "source": [
    "3.difference between tuple and list is that data cannot be modified in tuple that is immutable on the other hand in list we can add data "
   ]
  },
  {
   "cell_type": "markdown",
   "id": "69aa3ffe-e520-4e96-a52a-77a2e5ebd531",
   "metadata": {},
   "source": [
    "5. accessing data in tuple:\n"
   ]
  },
  {
   "cell_type": "code",
   "execution_count": 9,
   "id": "072a7b23-34d5-4156-bd55-4472f3b990bd",
   "metadata": {},
   "outputs": [
    {
     "data": {
      "text/plain": [
       "(5+4j)"
      ]
     },
     "execution_count": 9,
     "metadata": {},
     "output_type": "execute_result"
    }
   ],
   "source": [
    "tuple1[0]"
   ]
  },
  {
   "cell_type": "code",
   "execution_count": 10,
   "id": "3dbed7fd-2b2a-483f-b05f-2610ccb53c32",
   "metadata": {},
   "outputs": [
    {
     "data": {
      "text/plain": [
       "'First'"
      ]
     },
     "execution_count": 10,
     "metadata": {},
     "output_type": "execute_result"
    }
   ],
   "source": [
    "tuple1[5]"
   ]
  },
  {
   "cell_type": "markdown",
   "id": "61ccc07e-18d0-4fb8-941e-5eb343a83831",
   "metadata": {},
   "source": [
    "6. yes we can unpack tuple "
   ]
  }
 ],
 "metadata": {
  "kernelspec": {
   "display_name": "Python 3 (ipykernel)",
   "language": "python",
   "name": "python3"
  },
  "language_info": {
   "codemirror_mode": {
    "name": "ipython",
    "version": 3
   },
   "file_extension": ".py",
   "mimetype": "text/x-python",
   "name": "python",
   "nbconvert_exporter": "python",
   "pygments_lexer": "ipython3",
   "version": "3.10.8"
  }
 },
 "nbformat": 4,
 "nbformat_minor": 5
}
