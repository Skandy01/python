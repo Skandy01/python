{
 "cells": [
  {
   "cell_type": "markdown",
   "id": "6ac336f8-91fc-46d6-b599-7459304670bf",
   "metadata": {},
   "source": [
    "when we declare the variable name we should follow:\n",
    "\n",
    "1: it should start with either letters or underscore\n",
    "2: digits are not allowed at the start of declaring any variable\n",
    "3:spaces are not allowed between letters and letters are case sensitive"
   ]
  },
  {
   "cell_type": "code",
   "execution_count": 1,
   "id": "09d2c942-e485-4892-9664-12c1fd43ea17",
   "metadata": {},
   "outputs": [],
   "source": [
    "var = 10"
   ]
  },
  {
   "cell_type": "code",
   "execution_count": 2,
   "id": "33523b4a-254b-4ff7-bc93-2ddfc1231109",
   "metadata": {},
   "outputs": [],
   "source": [
    "_MyfirstVar = \"Python\""
   ]
  },
  {
   "cell_type": "code",
   "execution_count": 4,
   "id": "09c079c6-a9cc-4e33-bff8-27f32b720294",
   "metadata": {},
   "outputs": [
    {
     "data": {
      "text/plain": [
       "'Pyrthon'"
      ]
     },
     "execution_count": 4,
     "metadata": {},
     "output_type": "execute_result"
    }
   ],
   "source": [
    "_MyfirstVar"
   ]
  },
  {
   "cell_type": "code",
   "execution_count": 5,
   "id": "fbfae0df-f7ae-4532-a5f1-07663deec59a",
   "metadata": {},
   "outputs": [
    {
     "ename": "SyntaxError",
     "evalue": "leading zeros in decimal integer literals are not permitted; use an 0o prefix for octal integers (1234693298.py, line 1)",
     "output_type": "error",
     "traceback": [
      "\u001b[0;36m  Cell \u001b[0;32mIn[5], line 1\u001b[0;36m\u001b[0m\n\u001b[0;31m    01char = 25\u001b[0m\n\u001b[0m    ^\u001b[0m\n\u001b[0;31mSyntaxError\u001b[0m\u001b[0;31m:\u001b[0m leading zeros in decimal integer literals are not permitted; use an 0o prefix for octal integers\n"
     ]
    }
   ],
   "source": [
    "01char = 25"
   ]
  },
  {
   "cell_type": "markdown",
   "id": "9baf219d-dad0-43ed-b8ea-c2fe51e849f0",
   "metadata": {},
   "source": [
    "2. Reserved words are special wrods in python with some different meaning or unique so if we declare the variables python we will get syntax error."
   ]
  },
  {
   "cell_type": "code",
   "execution_count": 6,
   "id": "6457b65a-1e26-4be9-8e7f-c5dc1d9be3a1",
   "metadata": {},
   "outputs": [
    {
     "ename": "SyntaxError",
     "evalue": "invalid syntax (4005712389.py, line 1)",
     "output_type": "error",
     "traceback": [
      "\u001b[0;36m  Cell \u001b[0;32mIn[6], line 1\u001b[0;36m\u001b[0m\n\u001b[0;31m    def = 29\u001b[0m\n\u001b[0m        ^\u001b[0m\n\u001b[0;31mSyntaxError\u001b[0m\u001b[0;31m:\u001b[0m invalid syntax\n"
     ]
    }
   ],
   "source": [
    "def = 29"
   ]
  },
  {
   "cell_type": "markdown",
   "id": "d600ac3b-5768-437a-9f4e-2d2dfe86da47",
   "metadata": {},
   "source": [
    "3. Yes we can declare variable with string."
   ]
  },
  {
   "cell_type": "raw",
   "id": "ba1f8caa-ce31-4915-a563-a9970009c17c",
   "metadata": {},
   "source": []
  },
  {
   "cell_type": "markdown",
   "id": "0bac6435-9e69-4110-a0e7-a0be374b6408",
   "metadata": {},
   "source": [
    "5.variables are dynamic in nature :\n"
   ]
  },
  {
   "cell_type": "code",
   "execution_count": 7,
   "id": "4a7a5fd0-3737-4c3b-a24f-781c094ad9e7",
   "metadata": {},
   "outputs": [],
   "source": [
    "a = 29\n"
   ]
  },
  {
   "cell_type": "code",
   "execution_count": 8,
   "id": "41b1ea12-d552-427a-a570-fea07b5f03fa",
   "metadata": {},
   "outputs": [
    {
     "data": {
      "text/plain": [
       "29"
      ]
     },
     "execution_count": 8,
     "metadata": {},
     "output_type": "execute_result"
    }
   ],
   "source": [
    "a"
   ]
  },
  {
   "cell_type": "code",
   "execution_count": 9,
   "id": "2c18c69e-e139-46b1-b27f-72864a197dee",
   "metadata": {},
   "outputs": [],
   "source": [
    "a = \"STring\""
   ]
  },
  {
   "cell_type": "code",
   "execution_count": 10,
   "id": "66a3767c-412b-48c5-b7c3-544eec825fbb",
   "metadata": {},
   "outputs": [
    {
     "data": {
      "text/plain": [
       "'STring'"
      ]
     },
     "execution_count": 10,
     "metadata": {},
     "output_type": "execute_result"
    }
   ],
   "source": [
    "a"
   ]
  },
  {
   "cell_type": "code",
   "execution_count": null,
   "id": "48010ec8-3d24-4657-af2b-c1ccccf5f83e",
   "metadata": {},
   "outputs": [],
   "source": []
  }
 ],
 "metadata": {
  "kernelspec": {
   "display_name": "Python 3 (ipykernel)",
   "language": "python",
   "name": "python3"
  },
  "language_info": {
   "codemirror_mode": {
    "name": "ipython",
    "version": 3
   },
   "file_extension": ".py",
   "mimetype": "text/x-python",
   "name": "python",
   "nbconvert_exporter": "python",
   "pygments_lexer": "ipython3",
   "version": "3.10.8"
  }
 },
 "nbformat": 4,
 "nbformat_minor": 5
}
