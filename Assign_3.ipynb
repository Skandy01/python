{
 "cells": [
  {
   "cell_type": "markdown",
   "id": "da2569d9-bbf9-4e90-a97f-4c377bb8675b",
   "metadata": {},
   "source": [
    "1. Format for adding element to list :"
   ]
  },
  {
   "cell_type": "code",
   "execution_count": 1,
   "id": "cfa0b01b-6fa4-4e39-8aa7-59609b9f4420",
   "metadata": {},
   "outputs": [],
   "source": [
    "l = [2,3,6.4,\"Python\",True,(4-9j)]"
   ]
  },
  {
   "cell_type": "code",
   "execution_count": 2,
   "id": "123eb089-3771-496d-8e04-ae0f00d6c796",
   "metadata": {},
   "outputs": [],
   "source": [
    "l.append(100)"
   ]
  },
  {
   "cell_type": "code",
   "execution_count": 3,
   "id": "16bc52b8-c6d9-4b4d-880b-fa6f7c7827a8",
   "metadata": {},
   "outputs": [
    {
     "data": {
      "text/plain": [
       "[2, 3, 6.4, 'Python', True, (4-9j), 100]"
      ]
     },
     "execution_count": 3,
     "metadata": {},
     "output_type": "execute_result"
    }
   ],
   "source": [
    "l"
   ]
  },
  {
   "cell_type": "code",
   "execution_count": 5,
   "id": "e558e982-f827-4d31-ae4c-eb6a7f406374",
   "metadata": {},
   "outputs": [],
   "source": [
    "l.insert(0,9.8)"
   ]
  },
  {
   "cell_type": "code",
   "execution_count": 6,
   "id": "1b1a6a88-b267-4558-b26b-3819f2411a6d",
   "metadata": {},
   "outputs": [
    {
     "data": {
      "text/plain": [
       "[9.8, 2, 3, 6.4, 'Python', True, (4-9j), 100]"
      ]
     },
     "execution_count": 6,
     "metadata": {},
     "output_type": "execute_result"
    }
   ],
   "source": [
    "l"
   ]
  },
  {
   "cell_type": "code",
   "execution_count": 7,
   "id": "6be75e91-f5dc-48ca-97b9-2f2135b638ab",
   "metadata": {},
   "outputs": [],
   "source": [
    "l.insert(5,\"Jupyter Notebook\")"
   ]
  },
  {
   "cell_type": "code",
   "execution_count": 8,
   "id": "171bcfdc-18d9-4ce8-83a2-beb31f778212",
   "metadata": {},
   "outputs": [
    {
     "data": {
      "text/plain": [
       "[9.8, 2, 3, 6.4, 'Python', 'Jupyter Notebook', True, (4-9j), 100]"
      ]
     },
     "execution_count": 8,
     "metadata": {},
     "output_type": "execute_result"
    }
   ],
   "source": [
    "l"
   ]
  },
  {
   "cell_type": "markdown",
   "id": "b45b9c51-5d0a-435b-a68d-69fd5dcedeb0",
   "metadata": {},
   "source": [
    "2.Difference between remove and pop functon is :\n",
    "\n",
    "pop removes element from specific or last positon whereas remove function delete first occurence of paerticular element."
   ]
  },
  {
   "cell_type": "code",
   "execution_count": 9,
   "id": "49955d71-0be5-48d9-bce2-f735825da32c",
   "metadata": {},
   "outputs": [],
   "source": [
    "l2 = [32,4,67,\"Light\",False,(4+9j)]"
   ]
  },
  {
   "cell_type": "code",
   "execution_count": 10,
   "id": "b2e8d2d8-24cb-4adf-9119-6d2706cb5f78",
   "metadata": {},
   "outputs": [
    {
     "data": {
      "text/plain": [
       "(4+9j)"
      ]
     },
     "execution_count": 10,
     "metadata": {},
     "output_type": "execute_result"
    }
   ],
   "source": [
    "l2.pop()"
   ]
  },
  {
   "cell_type": "code",
   "execution_count": 11,
   "id": "664a0553-e985-4b7a-b1bc-3e1e7e342e12",
   "metadata": {},
   "outputs": [
    {
     "data": {
      "text/plain": [
       "'Light'"
      ]
     },
     "execution_count": 11,
     "metadata": {},
     "output_type": "execute_result"
    }
   ],
   "source": [
    "l2.pop(3)"
   ]
  },
  {
   "cell_type": "code",
   "execution_count": 13,
   "id": "1fc06d0d-62a3-4930-8390-bd4bc6c9f511",
   "metadata": {},
   "outputs": [],
   "source": [
    "l2.append(32)"
   ]
  },
  {
   "cell_type": "code",
   "execution_count": 14,
   "id": "b6cca6cf-a592-4f0e-bd24-fe430ad5e1b9",
   "metadata": {},
   "outputs": [
    {
     "data": {
      "text/plain": [
       "[32, 4, 67, False, 32]"
      ]
     },
     "execution_count": 14,
     "metadata": {},
     "output_type": "execute_result"
    }
   ],
   "source": [
    "l2"
   ]
  },
  {
   "cell_type": "code",
   "execution_count": 15,
   "id": "3e561b3a-416b-44a0-9e49-a451701e9331",
   "metadata": {},
   "outputs": [],
   "source": [
    "l2.remove(32)"
   ]
  },
  {
   "cell_type": "code",
   "execution_count": 16,
   "id": "1c2b9166-7b02-496c-a047-8e57ec791c28",
   "metadata": {},
   "outputs": [
    {
     "data": {
      "text/plain": [
       "[4, 67, False, 32]"
      ]
     },
     "execution_count": 16,
     "metadata": {},
     "output_type": "execute_result"
    }
   ],
   "source": [
    "l2"
   ]
  },
  {
   "cell_type": "markdown",
   "id": "a9fc3928-212e-4842-af62-f8840996c314",
   "metadata": {},
   "source": [
    "3.sort in reverse order"
   ]
  },
  {
   "cell_type": "code",
   "execution_count": 18,
   "id": "b732fc64-de05-46ee-81aa-66d76a0de75f",
   "metadata": {},
   "outputs": [],
   "source": [
    "collection = [54,14,17,2.5,43,90,21,567,38,76,93,28,56,45]"
   ]
  },
  {
   "cell_type": "code",
   "execution_count": 19,
   "id": "3b36c8a8-b6b8-4e9e-9446-7e609e7bf2a8",
   "metadata": {},
   "outputs": [],
   "source": [
    "collection.sort(reverse = True)"
   ]
  },
  {
   "cell_type": "code",
   "execution_count": 20,
   "id": "fec6c225-55a1-4285-b136-d8bc08535945",
   "metadata": {},
   "outputs": [
    {
     "data": {
      "text/plain": [
       "[567, 93, 90, 76, 56, 54, 45, 43, 38, 28, 21, 17, 14, 2.5]"
      ]
     },
     "execution_count": 20,
     "metadata": {},
     "output_type": "execute_result"
    }
   ],
   "source": [
    "collection"
   ]
  },
  {
   "cell_type": "code",
   "execution_count": 21,
   "id": "3a5cbc74-9541-450b-a6b9-ab01e0987624",
   "metadata": {},
   "outputs": [],
   "source": [
    "words = ['Python','Programming','Jupyter','Jason','Light']"
   ]
  },
  {
   "cell_type": "code",
   "execution_count": 22,
   "id": "5bbb553d-df5d-4aec-acf6-3f046a8c0fb1",
   "metadata": {},
   "outputs": [],
   "source": [
    "words.sort(reverse = True)"
   ]
  },
  {
   "cell_type": "code",
   "execution_count": 23,
   "id": "c5ffbbef-1198-4d98-858d-47e29336d3e5",
   "metadata": {},
   "outputs": [
    {
     "data": {
      "text/plain": [
       "['Python', 'Programming', 'Light', 'Jupyter', 'Jason']"
      ]
     },
     "execution_count": 23,
     "metadata": {},
     "output_type": "execute_result"
    }
   ],
   "source": [
    "words"
   ]
  },
  {
   "cell_type": "markdown",
   "id": "83305820-5eef-4121-b79a-26911b8a43c3",
   "metadata": {},
   "source": [
    "3. count number of occurences"
   ]
  },
  {
   "cell_type": "code",
   "execution_count": 26,
   "id": "1251383b-dc6a-43c9-9c0a-4bf94017e42a",
   "metadata": {},
   "outputs": [],
   "source": [
    "num = ['Python',23,61,49,35,2,23,83,29,61,23,2,'Python']"
   ]
  },
  {
   "cell_type": "code",
   "execution_count": 27,
   "id": "ed431d45-5677-48bc-80cc-5c7ae8e3c7a7",
   "metadata": {},
   "outputs": [
    {
     "data": {
      "text/plain": [
       "2"
      ]
     },
     "execution_count": 27,
     "metadata": {},
     "output_type": "execute_result"
    }
   ],
   "source": [
    "num.count('Python')"
   ]
  },
  {
   "cell_type": "code",
   "execution_count": 28,
   "id": "e1c089d2-2d1f-4a19-a068-b731daabc128",
   "metadata": {},
   "outputs": [
    {
     "data": {
      "text/plain": [
       "2"
      ]
     },
     "execution_count": 28,
     "metadata": {},
     "output_type": "execute_result"
    }
   ],
   "source": [
    "num.count(61)"
   ]
  },
  {
   "cell_type": "code",
   "execution_count": 29,
   "id": "de2409c3-92ac-4bd2-958f-eb4655d4d892",
   "metadata": {},
   "outputs": [
    {
     "data": {
      "text/plain": [
       "1"
      ]
     },
     "execution_count": 29,
     "metadata": {},
     "output_type": "execute_result"
    }
   ],
   "source": [
    "num.count(49)"
   ]
  },
  {
   "cell_type": "markdown",
   "id": "61cf01dd-8ee3-47d1-bcd7-2b76f442e7c0",
   "metadata": {},
   "source": [
    "4. reverse a list"
   ]
  },
  {
   "cell_type": "code",
   "execution_count": 33,
   "id": "a5f8dd10-0c31-496e-a660-1c968644ddd9",
   "metadata": {},
   "outputs": [],
   "source": [
    "l2 = [1,21,4,7,2,23,56,672,81,59,36,22,9,83,47]"
   ]
  },
  {
   "cell_type": "code",
   "execution_count": 34,
   "id": "5fd5a31f-11b5-47bb-9d9f-06071d218fdf",
   "metadata": {},
   "outputs": [],
   "source": [
    "l2.sort()"
   ]
  },
  {
   "cell_type": "code",
   "execution_count": null,
   "id": "05bea4bc-b431-4e27-b8c4-49ca626467c1",
   "metadata": {},
   "outputs": [],
   "source": [
    "l2"
   ]
  }
 ],
 "metadata": {
  "kernelspec": {
   "display_name": "Python 3 (ipykernel)",
   "language": "python",
   "name": "python3"
  },
  "language_info": {
   "codemirror_mode": {
    "name": "ipython",
    "version": 3
   },
   "file_extension": ".py",
   "mimetype": "text/x-python",
   "name": "python",
   "nbconvert_exporter": "python",
   "pygments_lexer": "ipython3",
   "version": "3.10.8"
  }
 },
 "nbformat": 4,
 "nbformat_minor": 5
}
