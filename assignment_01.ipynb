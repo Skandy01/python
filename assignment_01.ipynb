{
 "cells": [
  {
   "cell_type": "markdown",
   "id": "6ac336f8-91fc-46d6-b599-7459304670bf",
   "metadata": {},
   "source": [
    "when we declare the variable name we should follow:\n",
    "\n",
    "1: it should start with either letters or underscore\n",
    "2: digits are not allowed at the start of declaring any variable\n",
    "3:spaces are not allowed between letters and letters are case sensitive"
   ]
  },
  {
   "cell_type": "code",
   "execution_count": 1,
   "id": "09d2c942-e485-4892-9664-12c1fd43ea17",
   "metadata": {},
   "outputs": [],
   "source": [
    "var = 10"
   ]
  },
  {
   "cell_type": "code",
   "execution_count": 2,
   "id": "33523b4a-254b-4ff7-bc93-2ddfc1231109",
   "metadata": {},
   "outputs": [],
   "source": [
    "_MyfirstVar = \"Python\""
   ]
  },
  {
   "cell_type": "code",
   "execution_count": 4,
   "id": "09c079c6-a9cc-4e33-bff8-27f32b720294",
   "metadata": {},
   "outputs": [
    {
     "data": {
      "text/plain": [
       "'Pyrthon'"
      ]
     },
     "execution_count": 4,
     "metadata": {},
     "output_type": "execute_result"
    }
   ],
   "source": [
    "_MyfirstVar"
   ]
  },
  {
   "cell_type": "code",
   "execution_count": 5,
   "id": "fbfae0df-f7ae-4532-a5f1-07663deec59a",
   "metadata": {},
   "outputs": [
    {
     "ename": "SyntaxError",
     "evalue": "leading zeros in decimal integer literals are not permitted; use an 0o prefix for octal integers (1234693298.py, line 1)",
     "output_type": "error",
     "traceback": [
      "\u001b[0;36m  Cell \u001b[0;32mIn[5], line 1\u001b[0;36m\u001b[0m\n\u001b[0;31m    01char = 25\u001b[0m\n\u001b[0m    ^\u001b[0m\n\u001b[0;31mSyntaxError\u001b[0m\u001b[0;31m:\u001b[0m leading zeros in decimal integer literals are not permitted; use an 0o prefix for octal integers\n"
     ]
    }
   ],
   "source": [
    "01char = 25"
   ]
  },
  {
   "cell_type": "code",
   "execution_count": null,
   "id": "663f9c4b-6611-465c-929f-df8b64316702",
   "metadata": {},
   "outputs": [],
   "source": []
  }
 ],
 "metadata": {
  "kernelspec": {
   "display_name": "Python 3 (ipykernel)",
   "language": "python",
   "name": "python3"
  },
  "language_info": {
   "codemirror_mode": {
    "name": "ipython",
    "version": 3
   },
   "file_extension": ".py",
   "mimetype": "text/x-python",
   "name": "python",
   "nbconvert_exporter": "python",
   "pygments_lexer": "ipython3",
   "version": "3.10.8"
  }
 },
 "nbformat": 4,
 "nbformat_minor": 5
}
