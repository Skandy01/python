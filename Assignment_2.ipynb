{
 "cells": [
  {
   "cell_type": "markdown",
   "id": "798bbbd2-d3cd-46cf-bbe0-5f1a8d109cad",
   "metadata": {},
   "source": [
    "1. will store single quote like :"
   ]
  },
  {
   "cell_type": "code",
   "execution_count": null,
   "id": "8fa0fbb2-141f-46a8-97dc-cba23eff4682",
   "metadata": {},
   "outputs": [],
   "source": [
    "A = \"'\""
   ]
  },
  {
   "cell_type": "code",
   "execution_count": 2,
   "id": "1bd92a77-ec8d-467f-b107-92efb447baea",
   "metadata": {},
   "outputs": [
    {
     "data": {
      "text/plain": [
       "\"'\""
      ]
     },
     "execution_count": 2,
     "metadata": {},
     "output_type": "execute_result"
    }
   ],
   "source": [
    "A"
   ]
  },
  {
   "cell_type": "code",
   "execution_count": 3,
   "id": "6e3c1236-97ca-4eb9-be37-8bf10f1f7de8",
   "metadata": {},
   "outputs": [],
   "source": [
    "b = '\",.'"
   ]
  },
  {
   "cell_type": "code",
   "execution_count": 4,
   "id": "7f5bb9f6-224d-4edb-aa6b-421d8d950b5e",
   "metadata": {},
   "outputs": [
    {
     "data": {
      "text/plain": [
       "'\",.'"
      ]
     },
     "execution_count": 4,
     "metadata": {},
     "output_type": "execute_result"
    }
   ],
   "source": [
    "b"
   ]
  },
  {
   "cell_type": "markdown",
   "id": "6ef55542-d35e-46ba-89a8-8fd390945f9d",
   "metadata": {},
   "source": [
    "Second question"
   ]
  },
  {
   "cell_type": "code",
   "execution_count": 8,
   "id": "0223c024-5311-4571-8f46-3ad621c3ffae",
   "metadata": {},
   "outputs": [],
   "source": [
    "x = 'a'"
   ]
  },
  {
   "cell_type": "code",
   "execution_count": 9,
   "id": "6cd6c597-5464-4644-9353-c525623c16b7",
   "metadata": {},
   "outputs": [
    {
     "data": {
      "text/plain": [
       "str"
      ]
     },
     "execution_count": 9,
     "metadata": {},
     "output_type": "execute_result"
    }
   ],
   "source": [
    "type(x)"
   ]
  },
  {
   "cell_type": "markdown",
   "id": "aff36092-0add-42b7-a3df-2b34e511fec0",
   "metadata": {},
   "source": [
    "third question"
   ]
  },
  {
   "cell_type": "code",
   "execution_count": 11,
   "id": "3cf55049-4c07-4f35-af4f-e729c15d6e61",
   "metadata": {},
   "outputs": [],
   "source": [
    "quote = \"Welcome To Python Foundation Course\""
   ]
  },
  {
   "cell_type": "code",
   "execution_count": 13,
   "id": "7c534d43-5b85-41da-a5ab-14769594894e",
   "metadata": {},
   "outputs": [
    {
     "data": {
      "text/plain": [
       "11"
      ]
     },
     "execution_count": 13,
     "metadata": {},
     "output_type": "execute_result"
    }
   ],
   "source": [
    "quote.find('Python')"
   ]
  },
  {
   "cell_type": "code",
   "execution_count": 14,
   "id": "ee0a339a-9275-4b55-80ba-95bca1f3dc9a",
   "metadata": {},
   "outputs": [
    {
     "data": {
      "text/plain": [
       "0"
      ]
     },
     "execution_count": 14,
     "metadata": {},
     "output_type": "execute_result"
    }
   ],
   "source": [
    "quote.find('Welcome')"
   ]
  },
  {
   "cell_type": "code",
   "execution_count": 15,
   "id": "43df92ac-098d-4b5d-a2ed-3d4104d9473e",
   "metadata": {},
   "outputs": [
    {
     "data": {
      "text/plain": [
       "1"
      ]
     },
     "execution_count": 15,
     "metadata": {},
     "output_type": "execute_result"
    }
   ],
   "source": [
    "quote.count('Course')"
   ]
  },
  {
   "cell_type": "code",
   "execution_count": 16,
   "id": "e0b0c3d7-9f79-4241-8b31-7eb109d53c98",
   "metadata": {},
   "outputs": [
    {
     "data": {
      "text/plain": [
       "1"
      ]
     },
     "execution_count": 16,
     "metadata": {},
     "output_type": "execute_result"
    }
   ],
   "source": [
    "quote.count('Foundation')"
   ]
  },
  {
   "cell_type": "code",
   "execution_count": 17,
   "id": "42ac9f06-8985-4367-addf-8b77e3cd9b7f",
   "metadata": {},
   "outputs": [
    {
     "data": {
      "text/plain": [
       "35"
      ]
     },
     "execution_count": 17,
     "metadata": {},
     "output_type": "execute_result"
    }
   ],
   "source": [
    "len(quote)"
   ]
  },
  {
   "cell_type": "code",
   "execution_count": 18,
   "id": "57fc8ab6-5799-424f-9a54-0f1623545ffc",
   "metadata": {},
   "outputs": [],
   "source": [
    "quote1 = \"this is second assignment\""
   ]
  },
  {
   "cell_type": "code",
   "execution_count": 22,
   "id": "3edb9c69-5a40-441c-aca8-6135c45a9c2d",
   "metadata": {},
   "outputs": [],
   "source": [
    "final = quote + \" \"+quote1"
   ]
  },
  {
   "cell_type": "code",
   "execution_count": 23,
   "id": "8d70de36-1060-4817-94bd-4e0bc6ca73b1",
   "metadata": {},
   "outputs": [
    {
     "data": {
      "text/plain": [
       "'Welcome To Python Foundation Course this is second assignment'"
      ]
     },
     "execution_count": 23,
     "metadata": {},
     "output_type": "execute_result"
    }
   ],
   "source": [
    "final"
   ]
  },
  {
   "cell_type": "markdown",
   "id": "aac51a2d-a9c1-4742-8647-0e9e72fd9fee",
   "metadata": {},
   "source": [
    "third quetion"
   ]
  },
  {
   "cell_type": "code",
   "execution_count": 28,
   "id": "eb1a374b-7706-4dc7-b2af-2d21b4059d47",
   "metadata": {},
   "outputs": [],
   "source": [
    "word = 'PanaJ1@T12256'"
   ]
  },
  {
   "cell_type": "markdown",
   "id": "cf5529ca-5352-4ca2-972e-21a32f202432",
   "metadata": {},
   "source": [
    "I can do this using loop but I want to know how this will be done using any function bacause I am unable to do that."
   ]
  },
  {
   "cell_type": "markdown",
   "id": "6f549fd6-ec49-40fe-bb34-ae550d461f13",
   "metadata": {},
   "source": [
    "fourth question"
   ]
  },
  {
   "cell_type": "code",
   "execution_count": 32,
   "id": "3ca12c3c-4c6c-46bd-b564-feef0e91059b",
   "metadata": {},
   "outputs": [],
   "source": [
    "num = 146"
   ]
  },
  {
   "cell_type": "code",
   "execution_count": 33,
   "id": "fa8147ba-650d-481d-be57-98371c664e1f",
   "metadata": {},
   "outputs": [
    {
     "data": {
      "text/plain": [
       "int"
      ]
     },
     "execution_count": 33,
     "metadata": {},
     "output_type": "execute_result"
    }
   ],
   "source": [
    "type(num)"
   ]
  },
  {
   "cell_type": "code",
   "execution_count": 34,
   "id": "2778e7e7-edc3-460b-b2a9-0c21e9999f0b",
   "metadata": {},
   "outputs": [
    {
     "data": {
      "text/plain": [
       "'146'"
      ]
     },
     "execution_count": 34,
     "metadata": {},
     "output_type": "execute_result"
    }
   ],
   "source": [
    "str(num)"
   ]
  },
  {
   "cell_type": "code",
   "execution_count": 36,
   "id": "bb996a64-7bcc-4c24-870e-9caa55e48676",
   "metadata": {},
   "outputs": [],
   "source": [
    "num1 = 500"
   ]
  },
  {
   "cell_type": "code",
   "execution_count": 37,
   "id": "5f0d2f06-b162-4281-8cbc-97eb58fcec1a",
   "metadata": {},
   "outputs": [
    {
     "data": {
      "text/plain": [
       "int"
      ]
     },
     "execution_count": 37,
     "metadata": {},
     "output_type": "execute_result"
    }
   ],
   "source": [
    "type(num1)"
   ]
  },
  {
   "cell_type": "code",
   "execution_count": 38,
   "id": "12bc782b-1285-4bbd-aab2-3310240aeaef",
   "metadata": {},
   "outputs": [],
   "source": [
    "num1 = str(num1)"
   ]
  },
  {
   "cell_type": "code",
   "execution_count": 39,
   "id": "73b4a8ae-04aa-4e36-8e7e-a739e860f3cf",
   "metadata": {},
   "outputs": [
    {
     "data": {
      "text/plain": [
       "str"
      ]
     },
     "execution_count": 39,
     "metadata": {},
     "output_type": "execute_result"
    }
   ],
   "source": [
    "type(num1)"
   ]
  },
  {
   "cell_type": "code",
   "execution_count": null,
   "id": "08362cb0-283d-4836-aa5c-1329f6e51a84",
   "metadata": {},
   "outputs": [],
   "source": []
  }
 ],
 "metadata": {
  "kernelspec": {
   "display_name": "Python 3 (ipykernel)",
   "language": "python",
   "name": "python3"
  },
  "language_info": {
   "codemirror_mode": {
    "name": "ipython",
    "version": 3
   },
   "file_extension": ".py",
   "mimetype": "text/x-python",
   "name": "python",
   "nbconvert_exporter": "python",
   "pygments_lexer": "ipython3",
   "version": "3.10.8"
  }
 },
 "nbformat": 4,
 "nbformat_minor": 5
}
